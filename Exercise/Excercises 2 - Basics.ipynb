{
 "cells": [
  {
   "cell_type": "markdown",
   "metadata": {},
   "source": [
    "Write a function translate() that will translate a text into \"rövarspråket\" (Swedish for \"robber's language\"). That is, double every consonant and place an occurrence of \"o\" in between. For example, translate(\"this is fun\") should return the string \"tothohisos isos fofunon\"."
   ]
  },
  {
   "cell_type": "code",
   "execution_count": 8,
   "metadata": {},
   "outputs": [
    {
     "name": "stdout",
     "output_type": "stream",
     "text": [
      "tothohisos isos fofunon\n"
     ]
    }
   ],
   "source": [
    "def translate(s):\n",
    "    vowels = \"aeiouAEIOU\"\n",
    "    res = \"\"\n",
    "    for i in s:\n",
    "        if i == \" \":\n",
    "            res+=i\n",
    "            continue\n",
    "        if i not in vowels:\n",
    "            res += i + 'o' + i\n",
    "        else:\n",
    "            res += i  \n",
    "    print(res)\n",
    "translate(\"this is fun\")"
   ]
  },
  {
   "cell_type": "markdown",
   "metadata": {},
   "source": [
    "Define a function sum() and a function multiply() that sums and multiplies (respectively) all the numbers in a list of numbers. For example, sum([1, 2, 3, 4]) should return 10, and multiply([1, 2, 3, 4]) should return 24"
   ]
  },
  {
   "cell_type": "code",
   "execution_count": 9,
   "metadata": {},
   "outputs": [
    {
     "name": "stdout",
     "output_type": "stream",
     "text": [
      "10\n",
      "24\n"
     ]
    }
   ],
   "source": [
    "def sum(li):\n",
    "  su = 0\n",
    "  for i in li:\n",
    "    su += i\n",
    "  return su \n",
    "\n",
    "def multiply(li):\n",
    "  mul = 1\n",
    "  for i in li:\n",
    "    mul *= i\n",
    "  return mul \n",
    "\n",
    "print(sum([1,2,3,4]))\n",
    "print(multiply([1,2,3,4]))"
   ]
  },
  {
   "cell_type": "markdown",
   "metadata": {},
   "source": [
    "**Define a function reverse() that computes the reversal of a string. For example, reverse(\"I am testing\") should return the string \"gnitset ma I**"
   ]
  },
  {
   "cell_type": "code",
   "execution_count": 10,
   "metadata": {},
   "outputs": [
    {
     "data": {
      "text/plain": [
       "'gnitset ma I'"
      ]
     },
     "execution_count": 10,
     "metadata": {},
     "output_type": "execute_result"
    }
   ],
   "source": [
    "def reverse(s):\n",
    "  s =  s[::-1]\n",
    "  return s\n",
    "\n",
    "reverse(\"I am testing\")"
   ]
  },
  {
   "cell_type": "markdown",
   "metadata": {},
   "source": [
    "**Define a function is_palindrome() that recognizes palindromes (i.e. words that look the same written backwards). For example, is_palindrome(\"radar\") should return True.**"
   ]
  },
  {
   "cell_type": "code",
   "execution_count": 13,
   "metadata": {},
   "outputs": [
    {
     "name": "stdout",
     "output_type": "stream",
     "text": [
      "True\n"
     ]
    }
   ],
   "source": [
    "def is_palindrome(s):\n",
    "    rev_s = s[::-1]\n",
    "    if rev_s == s:\n",
    "        print(True)\n",
    "    else:\n",
    "        print(False)\n",
    "is_palindrome(\"radar\")"
   ]
  },
  {
   "cell_type": "markdown",
   "metadata": {},
   "source": [
    "**Write a function is_member() that takes a value (i.e. a number, string, etc) x and a list of values a, and returns True if x is a member of a, False otherwise.**"
   ]
  },
  {
   "cell_type": "code",
   "execution_count": 14,
   "metadata": {},
   "outputs": [
    {
     "data": {
      "text/plain": [
       "True"
      ]
     },
     "execution_count": 14,
     "metadata": {},
     "output_type": "execute_result"
    }
   ],
   "source": [
    "def is_member(val, li):\n",
    "  return val in li\n",
    "\n",
    "is_member(7, [5,2,7])"
   ]
  },
  {
   "cell_type": "markdown",
   "metadata": {},
   "source": [
    "**Define a function overlapping() that takes two lists and returns True if they have at least one member in common, False otherwise. You may use your is_member() function, or the in operator, but for the sake of the exercise, you should (also) write it using two nested for-loops.**"
   ]
  },
  {
   "cell_type": "code",
   "execution_count": 17,
   "metadata": {},
   "outputs": [
    {
     "name": "stdout",
     "output_type": "stream",
     "text": [
      "True\n"
     ]
    }
   ],
   "source": [
    "def overlapping(x, y):\n",
    "  for i in x:\n",
    "    if (is_member(i, y)):\n",
    "      return True\n",
    "  return False\n",
    "\n",
    "print(overlapping([1,2,3,10], [10,11,12]))\n"
   ]
  },
  {
   "cell_type": "markdown",
   "metadata": {},
   "source": [
    "# *Define a procedure histogram() that takes a list of integers and prints a histogram to the screen. For example, histogram([4, 9, 7]) should print the following:*(click on next cell to see)\n"
   ]
  },
  {
   "cell_type": "markdown",
   "metadata": {},
   "source": [
    "\n",
    "****\n",
    "*********\n",
    "*******"
   ]
  },
  {
   "cell_type": "code",
   "execution_count": 18,
   "metadata": {},
   "outputs": [
    {
     "name": "stdout",
     "output_type": "stream",
     "text": [
      "****\n",
      "*********\n",
      "*******\n"
     ]
    }
   ],
   "source": [
    "def histogram(li):\n",
    "  for i in li:\n",
    "    print(\"*\"*i)\n",
    "\n",
    "histogram([4,9,7])"
   ]
  },
  {
   "cell_type": "markdown",
   "metadata": {},
   "source": [
    "**Write a function char_freq() that takes a string and builds a frequency listing of the characters contained in it. Represent the frequency listing as a Python dictionary. Try it with something like char_freq(\"abbabcbdbabdbdbabababcbcbab\").**\n",
    "\n"
   ]
  },
  {
   "cell_type": "code",
   "execution_count": 19,
   "metadata": {},
   "outputs": [
    {
     "name": "stdout",
     "output_type": "stream",
     "text": [
      "{'a': 7, 'b': 14, 'c': 3, 'd': 3}\n"
     ]
    }
   ],
   "source": [
    "def char_freq(s):\n",
    "    res = {}\n",
    "    for i in s:\n",
    "        if i in res:\n",
    "            res[i] += 1\n",
    "        else:\n",
    "            res[i] = 1\n",
    "    print(res)\n",
    "char_freq(\"abbabcbdbabdbdbabababcbcbab\")\n"
   ]
  },
  {
   "cell_type": "markdown",
   "metadata": {},
   "source": [
    "A certain childrens game involves starting with a word in a particular category. Each participant in turn says a word, but that word must begin with the final letter of the previous word. Once a word has been given, it cannot be repeated. If an opponent cannot give a word in the category, they fall out of the game. For example, with \"animals\" as the category,\n",
    "Child 1: dog \n",
    "Child 2: goldfish\n",
    "Child 1: hippopotamus\n",
    "Child 2: snake\n",
    "...\n",
    "Your task in this exercise is as follows: Take the following selection of 70 English Pokemon names (extracted from Wikipedia's list of Pokemon) and generate the/a sequence with the highest possible number of Pokemon names where the subsequent name starts with the final letter of the preceding name. No Pokemon name is to be repeated.\n",
    "**audino bagon baltoy banette bidoof braviary bronzor carracosta charmeleon\n",
    "cresselia croagunk darmanitan deino emboar emolga exeggcute gabite\n",
    "girafarig gulpin haxorus heatmor heatran ivysaur jellicent jumpluff kangaskhan\n",
    "kricketune landorus ledyba loudred lumineon lunatone machamp magnezone mamoswine\n",
    "nosepass petilil pidgeotto pikachu pinsir poliwrath poochyena porygon2\n",
    "porygonz registeel relicanth remoraid rufflet sableye scolipede scrafty seaking\n",
    "sealeo silcoon simisear snivy snorlax spoink starly tirtouga trapinch treecko\n",
    "tyrogue vigoroth vulpix wailord wartortle whismur wingull yamask**\n",
    "\n"
   ]
  },
  {
   "cell_type": "code",
   "execution_count": null,
   "metadata": {},
   "outputs": [],
   "source": [
    "a = \"\"\"audino bagon baltoy banette bidoof braviary bronzor carracosta charmeleon cresselia croagunk\n",
    " darmanitan deino emboar emolga exeggcute gabite girafarig gulpin haxorus heatmor heatran ivysaur jellicent \n",
    " jumpluff kangaskhan kricketune landorus ledyba loudred lumineon lunatone machamp magnezone mamoswine nosepass\n",
    "  petilil pidgeotto pikachu pinsir poliwrath poochyena porygon2 porygonz registeel relicanth remoraid rufflet \n",
    "  sableye scolipede scrafty seaking sealeo silcoon simisear snivy snorlax spoink starly tirtouga trapinch treecko tyrogue\n",
    "   vigoroth vulpix wailord wartortle whismur wingull yamask\"\"\"\n",
    "\n",
    "li = a.split()\n",
    "res = []\n",
    "temp = []\n",
    "\n",
    "def find(lastWord, li):\n",
    "\tlast = lastWord[-1]\n",
    "\tfor i in li:\n",
    "\t\tif i[0] == last:\n",
    "\t\t\treturn li.index(i)\n",
    "\t\treturn -1\n",
    "\n",
    "for i in li:\n",
    "\tt = i \n",
    "\ttemp.append(i)\n",
    "\tl1 = li[:]\n",
    "\tl1.pop(l1.index(i))\n",
    "\tidx = find(i[-1], l1)\n",
    "\twhile idx != -1:\n",
    "\t\tt = l1[idx]\n",
    "\t\ttemp.append(t)\n",
    "\t\tl1.pop(idx)\n",
    "\t\tidx = find(t[-1], l1)\n",
    "\n",
    "\tif len(temp) > len(res):\n",
    "\t\tres = temp\n",
    "\ttemp = []\n",
    "\n",
    "print(res)"
   ]
  },
  {
   "cell_type": "markdown",
   "metadata": {},
   "source": [
    "**Write a program able to play the \"Guess the number\"-game, where the number to be guessed is randomly chosen between 1 and 20. (Source: http://inventwithpython.com) This is how it should work when run in a terminal:\n",
    "\n",
    "Hello! What is your name?\n",
    "Torbjörn\n",
    "Well, Torbjörn, I am thinking of a number between 1 and 20.\n",
    "Take a guess.\n",
    "10\n",
    "Your guess is too low.\n",
    "Take a guess.\n",
    "15\n",
    "Your guess is too low.\n",
    "Take a guess.\n",
    "18\n",
    "Good job, Torbjörn! You guessed my number in 3 guesses!***"
   ]
  },
  {
   "cell_type": "code",
   "execution_count": 5,
   "metadata": {},
   "outputs": [
    {
     "name": "stdout",
     "output_type": "stream",
     "text": [
      "['carracosta', 'carracosta']\n"
     ]
    }
   ],
   "source": [
    "poke_names = \"\"\"audino bagon baltoy banette bidoof braviary bronzor carracosta charmeleon cresselia croagunk\n",
    " darmanitan deino emboar emolga exeggcute gabite girafarig gulpin haxorus heatmor heatran ivysaur jellicent \n",
    " jumpluff kangaskhan kricketune landorus ledyba loudred lumineon lunatone machamp magnezone mamoswine nosepass\n",
    "  petilil pidgeotto pikachu pinsir poliwrath poochyena porygon2 porygonz registeel relicanth remoraid rufflet \n",
    "  sableye scolipede scrafty seaking sealeo silcoon simisear snivy snorlax spoink starly tirtouga trapinch \n",
    "  treecko tyrogue vigoroth vulpix wailord wartortle whismur wingull yamask\"\"\"\n",
    "\n",
    "temp = []\n",
    "ans = []\n",
    "arr = poke_names.split()\n",
    "\n",
    "\n",
    "def funxn(arr, wrd):\n",
    "\n",
    "\tfor i in arr :\n",
    "\n",
    "\t\tif i[0] == wrd[-1]:\n",
    "\t\t\t\tval = arr.index(i)\n",
    "\t\t\t\treturn val\n",
    "\t\treturn -1\n",
    "\n",
    "for i in arr:\n",
    "\ttemp.append(i)\n",
    "\tli2 = arr[:]\n",
    "\tli2.pop(arr.index(i))\n",
    "\tidx = i\n",
    "\tidx_2 = funxn(li2,i[-1])\n",
    "\n",
    "\twhile idx_2 != -1:\n",
    "\t\tt = li2[idx_2]\n",
    "\t\ttemp.append(idx)\n",
    "\t\tli2.pop(idx_2)\n",
    "\t\tidx_2 = funxn(li2,idx[-1])\n",
    "\n",
    "\tif len(temp) > len(ans):\n",
    "\t\tans = temp\n",
    "\ttemp = []\n",
    "\n",
    "print(ans)"
   ]
  },
  {
   "cell_type": "markdown",
   "metadata": {},
   "source": [
    "***Write a program that maps a list of words into a list of integers representing the lengths of the correponding words.***\n"
   ]
  },
  {
   "cell_type": "code",
   "execution_count": null,
   "metadata": {},
   "outputs": [],
   "source": [
    "def map_words(s):\n",
    "  res = {}\n",
    "  r = s.split()\n",
    "  for i in r:\n",
    "    res[i] = len(i)\n",
    "  return res\n",
    "\n",
    "map_words(\"life will not be always sunshine and rainbow\")"
   ]
  }
 ],
 "metadata": {
  "interpreter": {
   "hash": "31f2aee4e71d21fbe5cf8b01ff0e069b9275f58929596ceb00d14d90e3e16cd6"
  },
  "kernelspec": {
   "display_name": "Python 3.8.9 64-bit",
   "name": "python3"
  },
  "language_info": {
   "codemirror_mode": {
    "name": "ipython",
    "version": 3
   },
   "file_extension": ".py",
   "mimetype": "text/x-python",
   "name": "python",
   "nbconvert_exporter": "python",
   "pygments_lexer": "ipython3",
   "version": "3.8.9"
  }
 },
 "nbformat": 4,
 "nbformat_minor": 2
}
